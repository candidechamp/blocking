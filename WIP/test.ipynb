{
 "cells": [
  {
   "cell_type": "code",
   "execution_count": 1,
   "metadata": {},
   "outputs": [],
   "source": [
    "import numpy as np\n",
    "from main import BlockAnalysis\n",
    "import matplotlib.pyplot as plt"
   ]
  },
  {
   "cell_type": "code",
   "execution_count": 2,
   "metadata": {},
   "outputs": [],
   "source": [
    "time, rg, bias = np.loadtxt('RG_BIAS',unpack=True)"
   ]
  },
  {
   "cell_type": "code",
   "execution_count": 3,
   "metadata": {},
   "outputs": [],
   "source": [
    "blocks = BlockAnalysis(rg,bias=bias,T=310,multi=2)"
   ]
  },
  {
   "cell_type": "code",
   "execution_count": 4,
   "metadata": {},
   "outputs": [
    {
     "data": {
      "text/plain": [
       "array([[1.00000000e+00, 6.17552534e-02, 6.18956061e-05],\n",
       "       [2.00000000e+00, 7.58962488e-02, 1.07577552e-04],\n",
       "       [3.00000000e+00, 8.61136066e-02, 1.49492426e-04],\n",
       "       [4.00000000e+00, 9.52537180e-02, 1.90940982e-04],\n",
       "       [6.00000000e+00, 1.08876205e-01, 2.67298607e-04],\n",
       "       [9.00000000e+00, 1.25495681e-01, 3.77345728e-04],\n",
       "       [1.20000000e+01, 1.38755846e-01, 4.81762093e-04],\n",
       "       [1.80000000e+01, 1.58947836e-01, 6.75902729e-04],\n",
       "       [3.10000000e+01, 1.92161859e-01, 1.07237588e-03],\n",
       "       [3.60000000e+01, 1.99403184e-01, 1.19918040e-03],\n",
       "       [6.20000000e+01, 2.42649441e-01, 1.91508329e-03],\n",
       "       [9.30000000e+01, 2.72682485e-01, 2.63587475e-03],\n",
       "       [1.24000000e+02, 2.95647733e-01, 3.30008385e-03],\n",
       "       [1.86000000e+02, 3.34370959e-01, 4.57142563e-03],\n",
       "       [2.23000000e+02, 3.50930283e-01, 5.25358863e-03],\n",
       "       [2.79000000e+02, 3.66459696e-01, 6.13670925e-03],\n",
       "       [3.72000000e+02, 3.98861567e-01, 7.71332250e-03],\n",
       "       [4.46000000e+02, 4.16187509e-01, 8.81326057e-03],\n",
       "       [5.58000000e+02, 4.56739809e-01, 1.08196949e-02],\n",
       "       [6.69000000e+02, 4.84007827e-01, 1.25557593e-02],\n",
       "       [8.92000000e+02, 4.91630082e-01, 1.47297662e-02],\n",
       "       [1.11600000e+03, 5.18324578e-01, 1.73742793e-02],\n",
       "       [1.33800000e+03, 5.57099995e-01, 2.04517842e-02],\n",
       "       [2.00700000e+03, 5.98689561e-01, 2.69363168e-02],\n",
       "       [2.67600000e+03, 6.23797637e-01, 3.24296949e-02],\n",
       "       [4.01400000e+03, 6.88112086e-01, 4.38724242e-02],\n",
       "       [6.91300000e+03, 7.46919298e-01, 6.26800751e-02],\n",
       "       [8.02800000e+03, 7.21731272e-01, 6.53424792e-02],\n",
       "       [1.38260000e+04, 7.44760157e-01, 8.90158646e-02],\n",
       "       [2.07390000e+04, 7.44947983e-01, 1.09836588e-01]])"
      ]
     },
     "execution_count": 4,
     "metadata": {},
     "output_type": "execute_result"
    }
   ],
   "source": [
    "blocks.stat"
   ]
  },
  {
   "cell_type": "code",
   "execution_count": 5,
   "metadata": {},
   "outputs": [
    {
     "data": {
      "text/plain": [
       "<ErrorbarContainer object of 3 artists>"
      ]
     },
     "execution_count": 5,
     "metadata": {},
     "output_type": "execute_result"
    },
    {
     "data": {
      "image/png": "[encoded data removed]",
      "text/plain": [
       "<Figure size 432x288 with 1 Axes>"
      ]
     },
     "metadata": {
      "needs_background": "light"
     },
     "output_type": "display_data"
    }
   ],
   "source": [
    "plt.errorbar(blocks.stat[...,0], blocks.stat[...,1], blocks.stat[...,2])"
   ]
  },
  {
   "cell_type": "code",
   "execution_count": null,
   "metadata": {},
   "outputs": [],
   "source": [
    "def fblocking(cv, w, kbt, multi=1, interval=None):\n",
    "\n",
    "    N, n_blocks, block_sizes = blocker(cv, multi=multi)\n",
    "    u, bins = np.histogram(cv,weights=w,bins=50)\n",
    "    u = u/N\n",
    "   \n",
    "    err = np.zeros(len(block_sizes))\n",
    "    err_err = np.zeros(len(block_sizes))\n",
    "    for b in range(len(block_sizes)):\n",
    "        Nb = n_blocks[b]\n",
    "        his = np.zeros(len(bins)-1)\n",
    "        for n in range(Nb):\n",
    "            start = int( n*block_sizes[b] )\n",
    "            end = int( start + block_sizes[b] )\n",
    "            hi = np.histogram(cv[start:end], weights=w[start:end], bins=bins)[0] / len(cv[start:end])\n",
    "            his += (hi-u)**2\n",
    "        e = np.sqrt( his / (Nb*(Nb-1)) )\n",
    "        e = kbt*e/u\n",
    "        err[b] += e.mean()\n",
    "        err_err[b] += err[b] / np.sqrt( 2*(Nb-1) )\n",
    "   \n",
    "    return np.flip( np.array([block_sizes, err, err_err]).T , axis=0  )"
   ]
  },
  {
   "cell_type": "code",
   "execution_count": null,
   "metadata": {},
   "outputs": [],
   "source": [
    "fblocking(blocks.x, blocks.w, blocks.kbT, multi=2, interval=None)"
   ]
  },
  {
   "cell_type": "code",
   "execution_count": null,
   "metadata": {},
   "outputs": [],
   "source": []
  }
 ],
 "metadata": {
  "kernelspec": {
   "display_name": "Python 3",
   "language": "python",
   "name": "python3"
  },
  "language_info": {
   "codemirror_mode": {
    "name": "ipython",
    "version": 3
   },
   "file_extension": ".py",
   "mimetype": "text/x-python",
   "name": "python",
   "nbconvert_exporter": "python",
   "pygments_lexer": "ipython3",
   "version": "3.8.3"
  }
 },
 "nbformat": 4,
 "nbformat_minor": 4
}
