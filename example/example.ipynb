{
 "cells": [
  {
   "cell_type": "code",
   "execution_count": 1,
   "metadata": {},
   "outputs": [],
   "source": [
    "import sys\n",
    "import numpy as np\n",
    "import pandas as pd\n",
    "sys.path.append('..')\n",
    "from main import BlockAnalysis\n",
    "import matplotlib.pyplot as plt"
   ]
  },
  {
   "cell_type": "code",
   "execution_count": 2,
   "metadata": {},
   "outputs": [],
   "source": [
    "time, rg, bias = np.loadtxt('cv_bias.dat',unpack=True)"
   ]
  },
  {
   "cell_type": "markdown",
   "metadata": {},
   "source": [
    "### Error estimation for time-correlated data series"
   ]
  },
  {
   "cell_type": "code",
   "execution_count": null,
   "metadata": {},
   "outputs": [],
   "source": [
    "'''\n",
    "The variable rg contains the time trace of the radius\n",
    "of gyration of a peptide obtained from an MD simulation. \n",
    "\n",
    "With the multi keyword you indicate that the rg array\n",
    "is made from the concatenation of 2 indipendent trajectoy.\n",
    "The result is that there will not be blocks covering the \n",
    "end of a trajectory and the beginning of the other. \n",
    "'''\n",
    "block_rg = BlockAnalysis(rg, multi=2)"
   ]
  },
  {
   "cell_type": "code",
   "execution_count": null,
   "metadata": {},
   "outputs": [],
   "source": [
    "'''\n",
    "After initializing the class we can call the statistics\n",
    "from the block averaging\n",
    "'''\n",
    "print(pd.DataFrame(block_rg.stat, columns=['Block size', 'SEM', 'err(SEM)']))\n",
    "plt.errorbar(block_rg.stat[...,0], block_rg.stat[...,1], block_rg.stat[...,2], fmt='', color='k', ecolor='0.5')\n",
    "plt.xlabel('Block size')\n",
    "plt.ylabel('SEM')"
   ]
  },
  {
   "cell_type": "code",
   "execution_count": null,
   "metadata": {
    "scrolled": false
   },
   "outputs": [],
   "source": [
    "'''\n",
    "To avoid manually picking the point in the block profile\n",
    "at the beginning of the plateau (decorrelating block length,\n",
    "where the SEM have the less uncertainty), we can rely on\n",
    "automatic recognition of the decorrelating block length.\n",
    "'''\n",
    "block_rg.SEM()\n",
    "print('Mean:', block_rg.av)\n",
    "print('SEM:', block_rg.sem)\n",
    "print('Decorrelating block length:', block_rg.bs)\n",
    "plt.errorbar(block_rg.stat[...,0], block_rg.stat[...,1], block_rg.stat[...,2], fmt='', color='k', ecolor='0.5')\n",
    "plt.scatter(block_rg.bs, block_rg.sem,zorder=10,c='tab:red')\n",
    "plt.xlabel('Block size')\n",
    "plt.ylabel('SEM')"
   ]
  },
  {
   "cell_type": "markdown",
   "metadata": {},
   "source": [
    "### Error estimation for the free-energy of biased time-correlated data series (MetaD)"
   ]
  },
  {
   "cell_type": "code",
   "execution_count": null,
   "metadata": {},
   "outputs": [],
   "source": [
    "'''\n",
    "The dataset loaded in the 2nd cell comes from a WTMetaD run where the\n",
    "rg is a biased CV. In this case we perform the block analysis on\n",
    "the FES, rather than on the CV.\n",
    "\n",
    "The class can take either the Boltzmann weights in input, or MetaD bias\n",
    "and temperature and estimate the weights internally.\n",
    "'''\n",
    "block_fes = BlockAnalysis(rg,bias=bias,T=310,multi=2,interval_low=0.6,interval_up=2.5)"
   ]
  },
  {
   "cell_type": "code",
   "execution_count": null,
   "metadata": {
    "scrolled": false
   },
   "outputs": [],
   "source": [
    "print(pd.DataFrame(block_fes.stat, columns=['Block size', 'SEM', 'err(SEM)']))\n",
    "plt.errorbar(block_fes.stat[...,0], block_fes.stat[...,1], block_fes.stat[...,2], fmt='', color='k', ecolor='0.5')\n",
    "block_fes.SEM()\n",
    "plt.scatter(block_fes.bs, block_fes.sem,zorder=10,c='tab:red')\n",
    "plt.xlabel('Frame #')\n",
    "plt.ylabel('<SEM>(FES) [kJ/mol]')"
   ]
  },
  {
   "cell_type": "code",
   "execution_count": null,
   "metadata": {},
   "outputs": [],
   "source": [
    "'''\n",
    "Beware that in this last case the SEM obtained is just an\n",
    "average of the SEM over the FES. Calculating the average SEM\n",
    "is only useful to get a decorrelating block size. We can indeed\n",
    "use that information to obtain histograms and free-energy surfaces\n",
    "with error bars specific for each point.\n",
    "'''\n",
    "binC, H, E = block_fes.get_pdf()"
   ]
  },
  {
   "cell_type": "code",
   "execution_count": null,
   "metadata": {},
   "outputs": [],
   "source": [
    "plt.plot(binC, H, 'k')\n",
    "plt.fill_between(binC, H-E, H+E)\n",
    "plt.ylabel('p(Rg)')\n",
    "plt.xlabel('Rg')"
   ]
  },
  {
   "cell_type": "code",
   "execution_count": null,
   "metadata": {},
   "outputs": [],
   "source": [
    "binC, FES, FES_err = block_fes.get_fes()\n",
    "plt.plot(binC, FES, 'k')\n",
    "plt.fill_between(binC, FES-FES_err, FES+FES_err)\n",
    "plt.ylabel('FES(Rg) (kJ/mol)')\n",
    "plt.xlabel('Rg')"
   ]
  }
 ],
 "metadata": {
  "kernelspec": {
   "display_name": "Python 3 (ipykernel)",
   "language": "python",
   "name": "python3"
  },
  "language_info": {
   "codemirror_mode": {
    "name": "ipython",
    "version": 3
   },
   "file_extension": ".py",
   "mimetype": "text/x-python",
   "name": "python",
   "nbconvert_exporter": "python",
   "pygments_lexer": "ipython3",
   "version": "3.9.12"
  }
 },
 "nbformat": 4,
 "nbformat_minor": 4
}
