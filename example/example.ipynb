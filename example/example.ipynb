{
 "cells": [
  {
   "cell_type": "code",
   "execution_count": 1,
   "metadata": {},
   "outputs": [],
   "source": [
    "import sys\n",
    "import numpy as np\n",
    "import pandas as pd\n",
    "sys.path.append('..')\n",
    "from main import BlockAnalysis\n",
    "import matplotlib.pyplot as plt"
   ]
  },
  {
   "cell_type": "code",
   "execution_count": 2,
   "metadata": {},
   "outputs": [],
   "source": [
    "time, rg, bias = np.loadtxt('cv_bias.dat',unpack=True)"
   ]
  },
  {
   "cell_type": "markdown",
   "metadata": {},
   "source": [
    "### Error estimation for time-correlated data series"
   ]
  },
  {
   "cell_type": "code",
   "execution_count": 3,
   "metadata": {},
   "outputs": [],
   "source": [
    "'''\n",
    "The variable rg contains the time-evolution of the radius\n",
    "of gyration of peptide obtained from an MD simulation \n",
    "\n",
    "With the multi keyword you indicate that the rg array\n",
    "is made from the concatenation of 2 indipendent trajectoy.\n",
    "The result is that there will not be blocks covering the \n",
    "end of a trajectory and the beginning of the other. \n",
    "'''\n",
    "block_rg = BlockAnalysis(rg, multi=2)"
   ]
  },
  {
   "cell_type": "code",
   "execution_count": 4,
   "metadata": {},
   "outputs": [
    {
     "name": "stdout",
     "output_type": "stream",
     "text": [
      "    Block size       SEM      err(SEM)\n",
      "0          1.0  0.000399  3.998397e-07\n",
      "1          2.0  0.000564  7.989526e-07\n",
      "2          3.0  0.000690  1.197757e-06\n",
      "3          4.0  0.000796  1.596297e-06\n",
      "4          6.0  0.000975  2.392607e-06\n",
      "5          9.0  0.001192  3.585337e-06\n",
      "6         12.0  0.001376  4.776105e-06\n",
      "7         18.0  0.001682  7.152358e-06\n",
      "8         31.0  0.002200  1.227876e-05\n",
      "9         36.0  0.002368  1.424256e-05\n",
      "10        62.0  0.003092  2.440123e-05\n",
      "11        93.0  0.003764  3.638431e-05\n",
      "12       124.0  0.004322  4.824867e-05\n",
      "13       186.0  0.005242  7.167230e-05\n",
      "14       223.0  0.005710  8.548025e-05\n",
      "15       279.0  0.006338  1.061405e-04\n",
      "16       372.0  0.007239  1.399998e-04\n",
      "17       446.0  0.007845  1.661195e-04\n",
      "18       558.0  0.008691  2.058875e-04\n",
      "19       669.0  0.009394  2.437010e-04\n",
      "20       892.0  0.010680  3.199726e-04\n",
      "21      1116.0  0.011674  3.913066e-04\n",
      "22      1338.0  0.012622  4.633575e-04\n",
      "23      2007.0  0.014679  6.604329e-04\n",
      "24      2676.0  0.016466  8.560042e-04\n",
      "25      4014.0  0.018467  1.177406e-03\n",
      "26      6913.0  0.021844  1.833083e-03\n",
      "27      8028.0  0.021763  1.970351e-03\n",
      "28     13826.0  0.023561  2.816021e-03\n",
      "29     20739.0  0.024842  3.662772e-03\n"
     ]
    },
    {
     "data": {
      "text/plain": [
       "<ErrorbarContainer object of 3 artists>"
      ]
     },
     "execution_count": 4,
     "metadata": {},
     "output_type": "execute_result"
    },
    {
     "data": {
      "image/png": "[encoded data removed]",
      "text/plain": [
       "<Figure size 432x288 with 1 Axes>"
      ]
     },
     "metadata": {
      "needs_background": "light"
     },
     "output_type": "display_data"
    }
   ],
   "source": [
    "'''\n",
    "After initializing the class we can call the statistics\n",
    "from the block averaging\n",
    "'''\n",
    "print(pd.DataFrame(block_rg.stat, columns=['Block size', 'SEM', 'err(SEM)']))\n",
    "plt.errorbar(block_rg.stat[...,0], block_rg.stat[...,1], block_rg.stat[...,2], fmt='', color='k', ecolor='0.5')"
   ]
  },
  {
   "cell_type": "code",
   "execution_count": 5,
   "metadata": {
    "scrolled": true
   },
   "outputs": [
    {
     "name": "stdout",
     "output_type": "stream",
     "text": [
      "Mean: 1.2326926261572397\n",
      "SEM: 0.02184370302729555\n",
      "Decorrelating block length: 6913.0\n"
     ]
    }
   ],
   "source": [
    "'''\n",
    "To avoid manually picking the point in the block profile\n",
    "at the beginning of the plateau (decorrelating block length,\n",
    "where the SEM have the less uncertainty), we can rely on\n",
    "automatic recognition of the decorrelating block length.\n",
    "'''\n",
    "block_rg.SEM()\n",
    "print('Mean:', block_rg.av)\n",
    "print('SEM:', block_rg.sem)\n",
    "print('Decorrelating block length:', block_rg.bs)\n",
    "#plt.errorbar(block_rg.stat[...,0], block_rg.stat[...,1], block_rg.stat[...,2], fmt='', color='k', ecolor='0.5')\n",
    "#plt.scatter(block_rg.SEM()[0], block_rg.SEM()[1],zorder=10,c='tab:red')"
   ]
  },
  {
   "cell_type": "markdown",
   "metadata": {},
   "source": [
    "### Error estimation for the free-energy of biased time-correlated data series (MetaD)"
   ]
  },
  {
   "cell_type": "code",
   "execution_count": 3,
   "metadata": {},
   "outputs": [],
   "source": [
    "'''\n",
    "The dataset loaded in the 2nd cell comes from a WTMetaD run where the\n",
    "rg is a biased CV. In this case we perform the block analysis on\n",
    "the FES, rather than on the CV.\n",
    "\n",
    "The class can take either the Boltzmann weights in input, or MetaD bias\n",
    "and temperature and estimate the weights internally.\n",
    "'''\n",
    "block_fes = BlockAnalysis(rg,bias=bias,T=310,multi=2)"
   ]
  },
  {
   "cell_type": "code",
   "execution_count": 4,
   "metadata": {},
   "outputs": [
    {
     "name": "stdout",
     "output_type": "stream",
     "text": [
      "    Block size       SEM  err(SEM)\n",
      "0          1.0  0.061755  0.000062\n",
      "1          2.0  0.075896  0.000108\n",
      "2          3.0  0.086114  0.000149\n",
      "3          4.0  0.095254  0.000191\n",
      "4          6.0  0.108876  0.000267\n",
      "5          9.0  0.125496  0.000377\n",
      "6         12.0  0.138756  0.000482\n",
      "7         18.0  0.158948  0.000676\n",
      "8         31.0  0.192162  0.001072\n",
      "9         36.0  0.199403  0.001199\n",
      "10        62.0  0.242649  0.001915\n",
      "11        93.0  0.272682  0.002636\n",
      "12       124.0  0.295648  0.003300\n",
      "13       186.0  0.334371  0.004571\n",
      "14       223.0  0.350930  0.005254\n",
      "15       279.0  0.366460  0.006137\n",
      "16       372.0  0.398862  0.007713\n",
      "17       446.0  0.416188  0.008813\n",
      "18       558.0  0.456740  0.010820\n",
      "19       669.0  0.484008  0.012556\n",
      "20       892.0  0.491630  0.014730\n",
      "21      1116.0  0.518325  0.017374\n",
      "22      1338.0  0.557100  0.020452\n",
      "23      2007.0  0.598690  0.026936\n",
      "24      2676.0  0.623798  0.032430\n",
      "25      4014.0  0.688112  0.043872\n",
      "26      6913.0  0.746919  0.062680\n",
      "27      8028.0  0.721731  0.065342\n",
      "28     13826.0  0.744760  0.089016\n",
      "29     20739.0  0.744948  0.109837\n"
     ]
    },
    {
     "data": {
      "text/plain": [
       "Text(0, 0.5, '<SEM>(FES) [kJ/mol]')"
      ]
     },
     "execution_count": 4,
     "metadata": {},
     "output_type": "execute_result"
    },
    {
     "data": {
      "image/png": "[encoded data removed]",
      "text/plain": [
       "<Figure size 432x288 with 1 Axes>"
      ]
     },
     "metadata": {
      "needs_background": "light"
     },
     "output_type": "display_data"
    }
   ],
   "source": [
    "print(pd.DataFrame(block_fes.stat, columns=['Block size', 'SEM', 'err(SEM)']))\n",
    "plt.errorbar(block_fes.stat[...,0], block_fes.stat[...,1], block_fes.stat[...,2], fmt='', color='k', ecolor='0.5')\n",
    "block_fes.SEM()\n",
    "plt.scatter(block_fes.bs, block_fes.sem,zorder=10,c='tab:red')\n",
    "plt.xlabel('Frame #')\n",
    "plt.ylabel('<SEM>(FES) [kJ/mol]')"
   ]
  },
  {
   "cell_type": "code",
   "execution_count": 5,
   "metadata": {},
   "outputs": [],
   "source": [
    "'''\n",
    "Beware that in this last case the SEM obtained is just an\n",
    "average of the SEM over the FES. Calculating the average SEM\n",
    "is only useful to get a decorrelating block size. We can indeed\n",
    "use that information to obtain histograms and free-energy surfaces\n",
    "with error bars specific for each point.\n",
    "'''\n",
    "binC, H, E = block_fes.get_pdf()"
   ]
  },
  {
   "cell_type": "code",
   "execution_count": 6,
   "metadata": {},
   "outputs": [
    {
     "data": {
      "text/plain": [
       "<ErrorbarContainer object of 3 artists>"
      ]
     },
     "execution_count": 6,
     "metadata": {},
     "output_type": "execute_result"
    },
    {
     "data": {
      "image/png": "[encoded data removed]",
      "text/plain": [
       "<Figure size 432x288 with 1 Axes>"
      ]
     },
     "metadata": {
      "needs_background": "light"
     },
     "output_type": "display_data"
    }
   ],
   "source": [
    "plt.errorbar(binC, H, E)"
   ]
  },
  {
   "cell_type": "code",
   "execution_count": 7,
   "metadata": {},
   "outputs": [
    {
     "data": {
      "text/plain": [
       "<matplotlib.collections.PolyCollection at 0x7fb49e9a3bb0>"
      ]
     },
     "execution_count": 7,
     "metadata": {},
     "output_type": "execute_result"
    },
    {
     "data": {
      "image/png": "[encoded data removed]",
      "text/plain": [
       "<Figure size 432x288 with 1 Axes>"
      ]
     },
     "metadata": {
      "needs_background": "light"
     },
     "output_type": "display_data"
    }
   ],
   "source": [
    "plt.plot(binC, H, 'k')\n",
    "plt.fill_between(binC, H-E, H+E)"
   ]
  },
  {
   "cell_type": "code",
   "execution_count": 5,
   "metadata": {},
   "outputs": [
    {
     "data": {
      "text/plain": [
       "<matplotlib.collections.PolyCollection at 0x7fc164ebf4c0>"
      ]
     },
     "execution_count": 5,
     "metadata": {},
     "output_type": "execute_result"
    },
    {
     "data": {
      "image/png": "[encoded data removed]",
      "text/plain": [
       "<Figure size 432x288 with 1 Axes>"
      ]
     },
     "metadata": {
      "needs_background": "light"
     },
     "output_type": "display_data"
    }
   ],
   "source": [
    "binC, FES, FES_err = block_fes.get_fes()\n",
    "plt.plot(binC, FES, 'k')\n",
    "plt.fill_between(binC, FES-FES_err, FES+FES_err)"
   ]
  }
 ],
 "metadata": {
  "kernelspec": {
   "display_name": "Python 3 (ipykernel)",
   "language": "python",
   "name": "python3"
  },
  "language_info": {
   "codemirror_mode": {
    "name": "ipython",
    "version": 3
   },
   "file_extension": ".py",
   "mimetype": "text/x-python",
   "name": "python",
   "nbconvert_exporter": "python",
   "pygments_lexer": "ipython3",
   "version": "3.9.12"
  }
 },
 "nbformat": 4,
 "nbformat_minor": 4
}
