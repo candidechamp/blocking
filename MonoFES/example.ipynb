{
 "cells": [
  {
   "cell_type": "code",
   "execution_count": 1,
   "metadata": {},
   "outputs": [],
   "source": [
    "import numpy as np\n",
    "import matplotlib.pyplot as plt\n",
    "import fblock"
   ]
  },
  {
   "cell_type": "code",
   "execution_count": 2,
   "metadata": {},
   "outputs": [],
   "source": [
    "# Loading input file: CV and bias\n",
    "data = np.loadtxt('cv-bias_test.dat')"
   ]
  },
  {
   "cell_type": "code",
   "execution_count": 3,
   "metadata": {},
   "outputs": [
    {
     "name": "stdout",
     "output_type": "stream",
     "text": [
      "Possible number of block transformation:\n",
      "2\n"
     ]
    }
   ],
   "source": [
    "# Check result of block transformation\n",
    "print (\"Possible number of block transformation:\")\n",
    "print ( len(fblock.blocker(data, multi=2)[1]) )"
   ]
  },
  {
   "cell_type": "code",
   "execution_count": 4,
   "metadata": {},
   "outputs": [],
   "source": [
    "# It may happen that the lenght of the dataset \n",
    "# do not have a sufficient number of divisors without a reminder.\n",
    "# A solution for this will be implemented in the future.\n",
    "# For now it's enough to remove few points at the bottom (of each replica)\n",
    "data1 = data[:int(len(data)/2)]\n",
    "data2 = data[int(len(data)-len(data)/2):]\n",
    "data = (np.concatenate((data1[:int(len(data1)-1)],data2[:int(len(data1)-1)])))"
   ]
  },
  {
   "cell_type": "code",
   "execution_count": 5,
   "metadata": {},
   "outputs": [
    {
     "name": "stdout",
     "output_type": "stream",
     "text": [
      "Possible number of block transformation:\n",
      "71\n"
     ]
    }
   ],
   "source": [
    "print (\"Possible number of block transformation:\")\n",
    "print ( len(fblock.blocker(data)[1]) )"
   ]
  },
  {
   "cell_type": "code",
   "execution_count": 6,
   "metadata": {
    "scrolled": true
   },
   "outputs": [],
   "source": [
    "# Now we can proceed to reblock the dataset.\n",
    "# The fblocking function will calculate \n",
    "# the mean error of the average histogram bins for each block size.\n",
    "stat = fblock.fblocking(cv=data[...,1], bias=data[...,2], temp=323, multi=2)"
   ]
  },
  {
   "cell_type": "code",
   "execution_count": 7,
   "metadata": {},
   "outputs": [
    {
     "data": {
      "text/plain": [
       "<ErrorbarContainer object of 3 artists>"
      ]
     },
     "execution_count": 7,
     "metadata": {},
     "output_type": "execute_result"
    },
    {
     "data": {
      "image/png": "[encoded data removed]",
      "text/plain": [
       "<Figure size 432x288 with 1 Axes>"
      ]
     },
     "metadata": {
      "needs_background": "light"
     },
     "output_type": "display_data"
    }
   ],
   "source": [
    "plt.errorbar(stat[...,0],stat[...,1],stat[...,2], fmt='ro')"
   ]
  },
  {
   "cell_type": "code",
   "execution_count": 10,
   "metadata": {},
   "outputs": [],
   "source": [
    "def optimal_block(ndata, stat):\n",
    "    err_first = stat[0,1]\n",
    "    opt = None\n",
    "    \n",
    "    for (block_size, err, err_err) in reversed(stat):\n",
    "        B3 =  block_size**3\n",
    "        if B3 > 2*ndata*(err/err_first)**4 :\n",
    "            opt = (block_size, err)\n",
    "            \n",
    "    if (opt[0] > (ndata/50)):\n",
    "        print( \"You may not be converging. Sample more.\" )\n",
    "    \n",
    "    return opt"
   ]
  },
  {
   "cell_type": "code",
   "execution_count": 11,
   "metadata": {},
   "outputs": [],
   "source": [
    "# Attempt prediction of the fixed point\n",
    "bs, err = optimal_block(len(data),stat)"
   ]
  },
  {
   "cell_type": "code",
   "execution_count": 12,
   "metadata": {},
   "outputs": [
    {
     "data": {
      "text/plain": [
       "<matplotlib.collections.LineCollection at 0x7f0f4033eeb8>"
      ]
     },
     "execution_count": 12,
     "metadata": {},
     "output_type": "execute_result"
    },
    {
     "data": {
      "image/png": "[encoded data removed]",
      "text/plain": [
       "<Figure size 432x288 with 1 Axes>"
      ]
     },
     "metadata": {
      "needs_background": "light"
     },
     "output_type": "display_data"
    }
   ],
   "source": [
    "plt.errorbar(stat[...,0],stat[...,1],stat[...,2], fmt='ro')\n",
    "plt.hlines(err,0,250000)"
   ]
  },
  {
   "cell_type": "markdown",
   "metadata": {},
   "source": [
    "# TODOs:\n",
    "## Optimize prediction of the fixed point (include error bars?)\n",
    "## Introduce functions to calculate hist/fes with errors given a block size"
   ]
  }
 ],
 "metadata": {
  "kernelspec": {
   "display_name": "Python 3",
   "language": "python",
   "name": "python3"
  },
  "language_info": {
   "codemirror_mode": {
    "name": "ipython",
    "version": 3
   },
   "file_extension": ".py",
   "mimetype": "text/x-python",
   "name": "python",
   "nbconvert_exporter": "python",
   "pygments_lexer": "ipython3",
   "version": "3.7.3"
  }
 },
 "nbformat": 4,
 "nbformat_minor": 2
}
