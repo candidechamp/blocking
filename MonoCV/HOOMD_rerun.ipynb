{
 "cells": [
  {
   "cell_type": "markdown",
   "metadata": {},
   "source": [
    "# Reading energies from a GSD and re-runing"
   ]
  },
  {
   "cell_type": "markdown",
   "metadata": {},
   "source": [
    "We need to rerun trajectory files to be able to reweight them. For that, we need to know what is the energy of each frame with the new parameters. It is also useful to be albe to read the energy in the same GSD file. For that, it had to be logged when the file is created (see the `LJ_hoomd_v3` notebook). \n",
    "\n",
    "Remark that we need to work with the HOOMD-Blue version 3, which has a [slightly different API](https://hoomd-blue.readthedocs.io/en/latest/migrating.html). The API may still vary, as version 3 is still in beta version. But [it can be installed with Conda](https://github.com/glotzerlab/hoomd-blue/blob/master/INSTALLING.rst). I did not try if the GPU version can be instlled with conda, but apparently it can. See the same link.\n",
    "\n",
    "See also this talk for changes from version 2 to 3."
   ]
  },
  {
   "cell_type": "code",
   "execution_count": 197,
   "metadata": {},
   "outputs": [
    {
     "data": {
      "image/jpeg": "[encoded data removed]",
      "text/html": [
       "\n",
       "        <iframe\n",
       "            width=\"400\"\n",
       "            height=\"300\"\n",
       "            src=\"https://www.youtube.com/embed/fIFPYZsOVqI\"\n",
       "            frameborder=\"0\"\n",
       "            allowfullscreen\n",
       "        ></iframe>\n",
       "        "
      ],
      "text/plain": [
       "<IPython.lib.display.YouTubeVideo at 0x7fa1100a74d0>"
      ]
     },
     "execution_count": 197,
     "metadata": {},
     "output_type": "execute_result"
    }
   ],
   "source": [
    "from IPython.display import YouTubeVideo\n",
    "YouTubeVideo('fIFPYZsOVqI')"
   ]
  },
  {
   "cell_type": "code",
   "execution_count": 167,
   "metadata": {},
   "outputs": [],
   "source": [
    "import numpy as np\n",
    "import hoomd\n",
    "import gsd.hoomd\n",
    "import matplotlib.pyplot as plt"
   ]
  },
  {
   "cell_type": "code",
   "execution_count": 168,
   "metadata": {},
   "outputs": [
    {
     "data": {
      "text/plain": [
       "'3.0.0-beta.1'"
      ]
     },
     "execution_count": 168,
     "metadata": {},
     "output_type": "execute_result"
    }
   ],
   "source": [
    "hoomd.version.version"
   ]
  },
  {
   "cell_type": "code",
   "execution_count": 40,
   "metadata": {},
   "outputs": [
    {
     "data": {
      "text/plain": [
       "'2.2.0'"
      ]
     },
     "execution_count": 40,
     "metadata": {},
     "output_type": "execute_result"
    }
   ],
   "source": [
    "gsd.version.__version__"
   ]
  },
  {
   "cell_type": "markdown",
   "metadata": {},
   "source": [
    "## Reading the energies from a GSD file"
   ]
  },
  {
   "cell_type": "markdown",
   "metadata": {},
   "source": [
    "In this first part we just read the energies from a GSD file:"
   ]
  },
  {
   "cell_type": "code",
   "execution_count": 99,
   "metadata": {},
   "outputs": [],
   "source": [
    "energy = []\n",
    "with gsd.hoomd.open('trajectory.gsd') as f:\n",
    "    for frame in f:\n",
    "        energy.append(frame.log['md/compute/ThermodynamicQuantities/potential_energy'][0])"
   ]
  },
  {
   "cell_type": "code",
   "execution_count": 97,
   "metadata": {},
   "outputs": [
    {
     "data": {
      "text/plain": [
       "[<matplotlib.lines.Line2D at 0x7fa111018590>]"
      ]
     },
     "execution_count": 97,
     "metadata": {},
     "output_type": "execute_result"
    },
    {
     "data": {
      "image/png": "[encoded data removed]",
      "text/plain": [
       "<Figure size 432x288 with 1 Axes>"
      ]
     },
     "metadata": {
      "needs_background": "light"
     },
     "output_type": "display_data"
    }
   ],
   "source": [
    "plt.plot(energy,'o-')"
   ]
  },
  {
   "cell_type": "markdown",
   "metadata": {},
   "source": [
    "The total energy is the sum of the pair energies:"
   ]
  },
  {
   "cell_type": "code",
   "execution_count": 43,
   "metadata": {},
   "outputs": [
    {
     "data": {
      "text/plain": [
       "(-6873.051811957463, array([-6873.05181196]))"
      ]
     },
     "execution_count": 43,
     "metadata": {},
     "output_type": "execute_result"
    }
   ],
   "source": [
    "frame.log['particles/md/pair/LJ/energies'].sum(),frame.log['md/compute/ThermodynamicQuantities/potential_energy']"
   ]
  },
  {
   "cell_type": "markdown",
   "metadata": {},
   "source": [
    "## Re-calculating the energies with different parameters"
   ]
  },
  {
   "cell_type": "code",
   "execution_count": 44,
   "metadata": {},
   "outputs": [],
   "source": [
    "cpu = hoomd.device.CPU()"
   ]
  },
  {
   "cell_type": "markdown",
   "metadata": {},
   "source": [
    "This is from [Josua Andersol message](https://groups.google.com/g/hoomd-users/c/jWviW0HW0As/m/FBGjt2hZBwAJ):"
   ]
  },
  {
   "cell_type": "code",
   "execution_count": 194,
   "metadata": {},
   "outputs": [
    {
     "name": "stdout",
     "output_type": "stream",
     "text": [
      "1 loop, best of 5: 214 ms per loop\n"
     ]
    }
   ],
   "source": [
    "new_energy = []\n",
    "for frame in range(10):\n",
    "    # configure the Simulation\n",
    "    sim = hoomd.Simulation(device=cpu)\n",
    "    sim.create_state_from_gsd(filename='trajectory.gsd', frame=frame)\n",
    "\n",
    "    # set up the LJ liquid MD operations\n",
    "    integrator = hoomd.md.Integrator(dt=0.005)\n",
    "    cell = hoomd.md.nlist.Cell()\n",
    "    lj = hoomd.md.pair.LJ(nlist=cell)\n",
    "    lj.params[('A', 'A')] = dict(epsilon=1.5, sigma=1)\n",
    "    lj.r_cut[('A', 'A')] = 2.5\n",
    "    integrator.forces.append(lj)\n",
    "    sim.operations.integrator = integrator\n",
    "\n",
    "    # compute the system energy\n",
    "    thermo = hoomd.md.compute.ThermodynamicQuantities(filter=hoomd.filter.All())\n",
    "    sim.operations.computes.append(thermo)\n",
    "\n",
    "    # prepare the computation, but don't actually run any time steps\n",
    "    sim.run(0)\n",
    "\n",
    "    # get the potential energy\n",
    "    new_energy.append(thermo.potential_energy)"
   ]
  },
  {
   "cell_type": "code",
   "execution_count": 139,
   "metadata": {},
   "outputs": [
    {
     "data": {
      "text/plain": [
       "[<matplotlib.lines.Line2D at 0x7fa110808950>]"
      ]
     },
     "execution_count": 139,
     "metadata": {},
     "output_type": "execute_result"
    },
    {
     "data": {
      "image/png": "[encoded data removed]",
      "text/plain": [
       "<Figure size 432x288 with 1 Axes>"
      ]
     },
     "metadata": {
      "needs_background": "light"
     },
     "output_type": "display_data"
    }
   ],
   "source": [
    "plt.plot(energy,'o-')\n",
    "plt.plot(new_energy,'o-')"
   ]
  },
  {
   "cell_type": "markdown",
   "metadata": {},
   "source": [
    "I thought it would be nicer (as faster) not to create the system from scratch every time. So, based on the [HOOMD-Blue paper in Scipy 2020](http://conference.scipy.org/proceedings/scipy2020/pdfs/brandon_butler.pdf) I devised this script. Here I create the system once and just assign the snapshot particle positions for each frame. The problem is that `sim.run(0)` is only run once, giving always the energy of the first frame. `sim.run(1)` works as long as there isn't any integrator method defined, but HOOMD gives a warning that this method is missing. This is not nice, and I am currently working in a workaround.\n",
    "\n",
    "One can solve the problem by adding an integrator with `dt=0`:\n",
    "        \n",
    "        integrator = hoomd.md.Integrator(dt=0.0)\n",
    "        nve = hoomd.md.methods.NVE(hoomd.filter.All())\n",
    "        integrator.methods.append(nve)\n",
    "        \n",
    "But this gives another warning about zero timestep. \n",
    "So the alternative is query `lj.energy` directly, without the need of the `hoomd.md.compute.ThermodynamicQuantities`."
   ]
  },
  {
   "cell_type": "code",
   "execution_count": 195,
   "metadata": {},
   "outputs": [
    {
     "name": "stdout",
     "output_type": "stream",
     "text": [
      "1 loop, best of 5: 155 ms per loop\n"
     ]
    }
   ],
   "source": [
    "new_energy2 = []\n",
    "# configure the Simulation\n",
    "sim = hoomd.Simulation(device=cpu)\n",
    "sim.create_state_from_gsd(filename='trajectory.gsd', frame=0)\n",
    "# set up the LJ liquid MD operations\n",
    "integrator = hoomd.md.Integrator(dt=0.005)\n",
    "cell = hoomd.md.nlist.Cell()\n",
    "lj = hoomd.md.pair.LJ(nlist=cell)\n",
    "lj.params[('A', 'A')] = dict(epsilon=1.5, sigma=1)\n",
    "lj.r_cut[('A', 'A')] = 2.5\n",
    "integrator.forces.append(lj)\n",
    "#nve = hoomd.md.methods.NVE(hoomd.filter.All())\n",
    "#integrator.methods.append(nve)\n",
    "sim.operations.integrator = integrator\n",
    "snap = sim.state.snapshot\n",
    "# compute the system energy\n",
    "#thermo = hoomd.md.compute.ThermodynamicQuantities(filter=hoomd.filter.All())\n",
    "#sim.operations.computes.append(thermo)\n",
    "\n",
    "\n",
    "with gsd.hoomd.open('trajectory.gsd') as f:\n",
    "    for frame in f:\n",
    "        snap.particles.position[:,:] = frame.particles.position\n",
    "        sim.state.snapshot = snap\n",
    "        # prepare the computation, but don't actually run any time steps\n",
    "        sim.run(0)\n",
    "        # get the potential energy\n",
    "        #new_energy2.append(thermo.potential_energy)\n",
    "        new_energy2.append(lj.energy)"
   ]
  },
  {
   "cell_type": "markdown",
   "metadata": {},
   "source": [
    "Now we can compare with the previous method. Using the same parameters gives, as expected, the same energy."
   ]
  },
  {
   "cell_type": "code",
   "execution_count": 178,
   "metadata": {},
   "outputs": [
    {
     "data": {
      "text/plain": [
       "[<matplotlib.lines.Line2D at 0x7fa110398e50>]"
      ]
     },
     "execution_count": 178,
     "metadata": {},
     "output_type": "execute_result"
    },
    {
     "data": {
      "image/png": "[encoded data removed]",
      "text/plain": [
       "<Figure size 432x288 with 1 Axes>"
      ]
     },
     "metadata": {
      "needs_background": "light"
     },
     "output_type": "display_data"
    }
   ],
   "source": [
    "plt.plot(np.array(new_energy)-np.array(new_energy2),'o-')\n",
    "#plt.plot(np.array(energy)-np.array(new_energy),'x-')\n",
    "#plt.plot(new_energy,'o-')"
   ]
  },
  {
   "cell_type": "markdown",
   "metadata": {},
   "source": [
    "According to the paper, accessing the local shapshot should be faster. In this case, however we do need to run 1 time step, both if we use `thermo.potential_energy` or `lj.energy`. "
   ]
  },
  {
   "cell_type": "code",
   "execution_count": 189,
   "metadata": {},
   "outputs": [
    {
     "name": "stderr",
     "output_type": "stream",
     "text": [
      "*Warning*: integrate.mode_standard: No integration methods are set, continuing anyways.\n"
     ]
    }
   ],
   "source": [
    "new_energy3 = []\n",
    "# configure the Simulation\n",
    "sim = hoomd.Simulation(device=cpu)\n",
    "sim.create_state_from_gsd(filename='trajectory.gsd', frame=0)\n",
    "# set up the LJ liquid MD operations\n",
    "integrator = hoomd.md.Integrator(dt=0.005)\n",
    "cell = hoomd.md.nlist.Cell()\n",
    "lj = hoomd.md.pair.LJ(nlist=cell)\n",
    "lj.params[('A', 'A')] = dict(epsilon=1.5, sigma=1)\n",
    "lj.r_cut[('A', 'A')] = 2.5\n",
    "integrator.forces.append(lj)\n",
    "#nve = hoomd.md.methods.NVE(hoomd.filter.All())\n",
    "#integrator.methods.append(nve)\n",
    "sim.operations.integrator = integrator\n",
    "# compute the system energy This also works.\n",
    "#thermo = hoomd.md.compute.ThermodynamicQuantities(filter=hoomd.filter.All())\n",
    "#sim.operations.computes.append(thermo)\n",
    "\n",
    "with sim.state.cpu_local_snapshot as snap:\n",
    "\n",
    "\n",
    "    with gsd.hoomd.open('trajectory.gsd') as f:\n",
    "        for frame in f:\n",
    "            snap.particles.position[:,:] = frame.particles.position\n",
    "            # prepare the computation, but don't actually run any time steps\n",
    "            sim.run(1)\n",
    "            # get the potential energy\n",
    "            #new_energy3.append(thermo.potential_energy)\n",
    "            new_energy3.append(lj.energy)"
   ]
  },
  {
   "cell_type": "code",
   "execution_count": 190,
   "metadata": {},
   "outputs": [
    {
     "data": {
      "text/plain": [
       "[<matplotlib.lines.Line2D at 0x7fa110159950>]"
      ]
     },
     "execution_count": 190,
     "metadata": {},
     "output_type": "execute_result"
    },
    {
     "data": {
      "image/png": "[encoded data removed]",
      "text/plain": [
       "<Figure size 432x288 with 1 Axes>"
      ]
     },
     "metadata": {
      "needs_background": "light"
     },
     "output_type": "display_data"
    }
   ],
   "source": [
    "plt.plot(np.array(new_energy)-np.array(new_energy3),'o-')\n",
    "#plt.plot(np.array(energy)-np.array(new_energy),'x-')\n",
    "#plt.plot(new_energy,'o-')"
   ]
  },
  {
   "cell_type": "markdown",
   "metadata": {},
   "source": [
    "### Peformance"
   ]
  },
  {
   "cell_type": "markdown",
   "metadata": {},
   "source": [
    "The 3 methods take similar times. The first is the slowest **214ms** and the other two are essentially the same **155ms**. We should redo this for our systems, with many more frames (and fewer particles, in the case of a single chain)."
   ]
  },
  {
   "cell_type": "code",
   "execution_count": null,
   "metadata": {},
   "outputs": [],
   "source": []
  }
 ],
 "metadata": {
  "kernelspec": {
   "display_name": "Python 3",
   "language": "python",
   "name": "python3"
  },
  "language_info": {
   "codemirror_mode": {
    "name": "ipython",
    "version": 3
   },
   "file_extension": ".py",
   "mimetype": "text/x-python",
   "name": "python",
   "nbconvert_exporter": "python",
   "pygments_lexer": "ipython3",
   "version": "3.8.3"
  }
 },
 "nbformat": 4,
 "nbformat_minor": 4
}
